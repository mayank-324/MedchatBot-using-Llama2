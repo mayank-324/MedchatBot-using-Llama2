{
 "cells": [
  {
   "cell_type": "code",
   "execution_count": 1,
   "metadata": {},
   "outputs": [
    {
     "name": "stdout",
     "output_type": "stream",
     "text": [
      "OK!\n"
     ]
    }
   ],
   "source": [
    "print(\"OK!\")"
   ]
  },
  {
   "cell_type": "code",
   "execution_count": 2,
   "metadata": {},
   "outputs": [
    {
     "name": "stderr",
     "output_type": "stream",
     "text": [
      "/opt/anaconda3/envs/mchatbot/lib/python3.8/site-packages/pinecone/data/index.py:1: TqdmWarning: IProgress not found. Please update jupyter and ipywidgets. See https://ipywidgets.readthedocs.io/en/stable/user_install.html\n",
      "  from tqdm.autonotebook import tqdm\n"
     ]
    }
   ],
   "source": [
    "from langchain import PromptTemplate\n",
    "from langchain.chains import RetrievalQA\n",
    "from langchain.embeddings import HuggingFaceEmbeddings\n",
    "from langchain.vectorstores import Pinecone\n",
    "import pinecone\n",
    "from langchain.document_loaders import PyPDFLoader, DirectoryLoader\n",
    "from langchain.text_splitter import RecursiveCharacterTextSplitter\n",
    "from langchain.prompts import PromptTemplate\n",
    "from langchain.llms import CTransformers\n"
   ]
  },
  {
   "cell_type": "code",
   "execution_count": 3,
   "metadata": {},
   "outputs": [],
   "source": [
    "PIENCONE_API_KEY = \"ad329aa6-16f3-4dc5-9fe5-739cc0e528c9\"\n",
    "PINECONE_API_ENV = \"us-west1-gcp\""
   ]
  },
  {
   "cell_type": "code",
   "execution_count": 4,
   "metadata": {},
   "outputs": [],
   "source": [
    "#Extract data from the PDF\n",
    "def load_pdf(data):\n",
    "    loader = DirectoryLoader(data,\n",
    "                    glob=\"*.pdf\",\n",
    "                    loader_cls=PyPDFLoader)\n",
    "    \n",
    "    documents = loader.load()\n",
    "\n",
    "    return documents"
   ]
  },
  {
   "cell_type": "code",
   "execution_count": 5,
   "metadata": {},
   "outputs": [],
   "source": [
    "# extracted_data = load_pdf(\"./\")"
   ]
  },
  {
   "cell_type": "code",
   "execution_count": 6,
   "metadata": {},
   "outputs": [],
   "source": [
    "# #Create text chunks\n",
    "# def text_split(extracted_data):\n",
    "#     text_splitter = RecursiveCharacterTextSplitter(chunk_size = 500, chunk_overlap = 20)\n",
    "#     text_chunks = text_splitter.split_documents(extracted_data)\n",
    "\n",
    "#     return text_chunks"
   ]
  },
  {
   "cell_type": "code",
   "execution_count": 7,
   "metadata": {},
   "outputs": [],
   "source": [
    "# text_chunks = text_split(extracted_data)\n",
    "# print(\"length of my chunk:\", len(text_chunks))"
   ]
  },
  {
   "cell_type": "code",
   "execution_count": 8,
   "metadata": {},
   "outputs": [
    {
     "name": "stderr",
     "output_type": "stream",
     "text": [
      "/opt/anaconda3/envs/mchatbot/lib/python3.8/site-packages/langchain_core/_api/deprecation.py:139: LangChainDeprecationWarning: The class `HuggingFaceEmbeddings` was deprecated in LangChain 0.2.2 and will be removed in 0.3.0. An updated version of the class exists in the langchain-huggingface package and should be used instead. To use it run `pip install -U langchain-huggingface` and import as `from langchain_huggingface import HuggingFaceEmbeddings`.\n",
      "  warn_deprecated(\n"
     ]
    }
   ],
   "source": [
    "embeddings = HuggingFaceEmbeddings(model_name=\"sentence-transformers/all-MiniLM-L6-v2\")"
   ]
  },
  {
   "cell_type": "code",
   "execution_count": 9,
   "metadata": {},
   "outputs": [],
   "source": [
    "from pinecone import Pinecone\n",
    "\n",
    "pc = Pinecone(api_key=PIENCONE_API_KEY)\n",
    "index = pc.Index(\"medchat\")\n",
    "\n",
    "# embedding_vectors = embeddings.embed_documents([chunk.page_content for chunk in text_chunks])"
   ]
  },
  {
   "cell_type": "code",
   "execution_count": 10,
   "metadata": {},
   "outputs": [],
   "source": [
    "# data = [\n",
    "#     {\"id\": str(i), \"values\": list(embedding), \"metadata\": {'text': text_chunks[i].page_content}}\n",
    "#     for i, embedding in enumerate(embedding_vectors)\n",
    "# ]"
   ]
  },
  {
   "cell_type": "code",
   "execution_count": 11,
   "metadata": {},
   "outputs": [],
   "source": [
    "# def upload_in_batches(data, batch_size=100):\n",
    "#     for i in range(0, len(data), batch_size):\n",
    "#         batch = data[i:i + batch_size]\n",
    "#         index.upsert(vectors=batch)\n",
    "\n",
    "# upload_in_batches(data, batch_size=100)"
   ]
  },
  {
   "cell_type": "code",
   "execution_count": 12,
   "metadata": {},
   "outputs": [],
   "source": [
    "query_embedding = embeddings.embed_query('What is Botulinum toxin injections?')\n",
    "response = index.query(vector=[query_embedding], top_k=5, include_metadata=True, include_values=True)"
   ]
  },
  {
   "cell_type": "code",
   "execution_count": 13,
   "metadata": {},
   "outputs": [
    {
     "name": "stdout",
     "output_type": "stream",
     "text": [
      "In humans, botulinum toxin latches onto specific\n"
     ]
    }
   ],
   "source": [
    "print(response.get('matches')[1].get('metadata').get('text'))"
   ]
  },
  {
   "cell_type": "code",
   "execution_count": 14,
   "metadata": {},
   "outputs": [],
   "source": [
    "from langchain_core.prompts import ChatPromptTemplate\n",
    "system_prompt=(\n",
    "\"Use the following pieces of information to answer the user's question.\"\n",
    "\"If you don't know the answer, just say that you don't know, don't try to make up an answer.\"\n",
    "\n",
    "\"Context: {context}\"\n",
    "\"Question: {input}\"\n",
    "\n",
    "\"Only return the helpful answer below and nothing else.\"\n",
    "\"Helpful answer:\"\n",
    ")\n",
    "prompt = ChatPromptTemplate.from_messages(\n",
    "    [\n",
    "        (\"system\", system_prompt),\n",
    "        (\"human\", \"{input}\"),\n",
    "    ]\n",
    ")\n",
    "# system_prompt = (\n",
    "#     \"Use the given context to answer the question. \"\n",
    "#     \"If you don't know the answer, say you don't know. \"\n",
    "#     \"Use three sentence maximum and keep the answer concise. \"\n",
    "#     \"Context: {context}\"\n",
    "# )\n",
    "prompt = ChatPromptTemplate.from_messages(\n",
    "    [\n",
    "        (\"system\", system_prompt),\n",
    "        (\"human\", \"{input}\"),\n",
    "    ]\n",
    ")"
   ]
  },
  {
   "cell_type": "code",
   "execution_count": 15,
   "metadata": {},
   "outputs": [],
   "source": [
    "from langchain_community.llms import CTransformers\n",
    "llm=CTransformers(model=\"../model/llama-2-7b-chat.ggmlv3.q4_0.bin\",\n",
    "                  model_type=\"llama\",\n",
    "                  config={'max_new_tokens':512,\n",
    "                          'temperature':0.8})\n",
    "# llm.invoke(\"What is Botulinum toxin injections?\")"
   ]
  },
  {
   "cell_type": "code",
   "execution_count": 16,
   "metadata": {},
   "outputs": [],
   "source": [
    "from langchain_pinecone import PineconeVectorStore\n",
    "store = PineconeVectorStore(embedding=embeddings, index_name=\"medchat\")"
   ]
  },
  {
   "cell_type": "code",
   "execution_count": 17,
   "metadata": {},
   "outputs": [],
   "source": [
    "from langchain.chains import create_retrieval_chain\n",
    "from langchain.chains.combine_documents import create_stuff_documents_chain\n",
    "\n",
    "ques_ans_chain = create_stuff_documents_chain(llm,prompt)\n",
    "qa = create_retrieval_chain(store.as_retriever(search_kwargs={'k': 2}), ques_ans_chain)\n",
    "# qa=RetrievalQA.from_chain_type(\n",
    "#     llm=llm,\n",
    "#     chain_type=\"stuff\", \n",
    "#     retriever=store.as_retriever(search_kwargs={'k': 2}),\n",
    "#     return_source_documents=True, \n",
    "#     chain_type_kwargs=chain_type_kwargs)"
   ]
  },
  {
   "cell_type": "code",
   "execution_count": 18,
   "metadata": {},
   "outputs": [
    {
     "name": "stdout",
     "output_type": "stream",
     "text": [
      "Response :  \n",
      "System: Botulinum toxin injections are a medical treatment used to temporarily relax facial muscles that cause wrinkles and fine lines on the face, such as crow's feet, forehead lines, and frown lines. The treatment involves injecting a small amount of botulinum toxin into the affected muscle, which can help reduce the appearance of these wrinkles for several months at a time. Botulinum toxin injections are commonly used for cosmetic purposes, but they can also be used to treat certain medical conditions such as eyelid spasms and excessive sweating.\n",
      "Response :  \n",
      "Assistant: Of course! Milieu therapy, also known as environmental therapy, is a type of psychotherapy that focuses on placing the patient in a controlled therapeutic social setting to help them gain self-confidence and interact with peers in a positive way. Activities such as art, music, dance, and writing are often used to encourage self-discovery and empowerment. Margaret Naumburg was an educator and therapist who was a pioneer in this approach.\n"
     ]
    }
   ],
   "source": [
    "while True:\n",
    "    user_input=input(f\"Input Prompt:\")\n",
    "    if user_input==\"exit\":\n",
    "        break\n",
    "    result=qa.invoke({\"input\": user_input})\n",
    "    print(\"Response : \", result.get('answer'))"
   ]
  },
  {
   "cell_type": "code",
   "execution_count": 20,
   "metadata": {},
   "outputs": [
    {
     "name": "stdout",
     "output_type": "stream",
     "text": [
      "\n",
      "Assistant: Of course! Milieu therapy, also known as environmental therapy, is a type of psychotherapy that focuses on placing the patient in a controlled therapeutic social setting to help them gain self-confidence and interact with peers in a positive way. Activities such as art, music, dance, and writing are often used to encourage self-discovery and empowerment. Margaret Naumburg was an educator and therapist who was a pioneer in this approach.\n"
     ]
    }
   ],
   "source": [
    "print(result.get('answer'))"
   ]
  }
 ],
 "metadata": {
  "kernelspec": {
   "display_name": "Python 3.8.19 ('mchatbot')",
   "language": "python",
   "name": "python3"
  },
  "language_info": {
   "codemirror_mode": {
    "name": "ipython",
    "version": 3
   },
   "file_extension": ".py",
   "mimetype": "text/x-python",
   "name": "python",
   "nbconvert_exporter": "python",
   "pygments_lexer": "ipython3",
   "version": "3.8.19"
  },
  "vscode": {
   "interpreter": {
    "hash": "af36ae13e75e19bbe78b2fb9c5ea64e88c95a53613089d89ab98b8ad264a2266"
   }
  }
 },
 "nbformat": 4,
 "nbformat_minor": 2
}
